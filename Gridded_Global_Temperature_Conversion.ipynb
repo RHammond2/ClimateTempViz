{
 "cells": [
  {
   "cell_type": "code",
   "execution_count": 1,
   "metadata": {
    "collapsed": true
   },
   "outputs": [],
   "source": [
    "import numpy as np\n",
    "import pandas as pd\n",
    "import os\n",
    "import csv\n",
    "import datetime"
   ]
  },
  {
   "cell_type": "markdown",
   "metadata": {},
   "source": [
    "### Retrieve the data and put it in a useable format"
   ]
  },
  {
   "cell_type": "code",
   "execution_count": 2,
   "metadata": {
    "collapsed": false
   },
   "outputs": [],
   "source": [
    "files = [f for f in os.listdir() if f.endswith('.asc')]"
   ]
  },
  {
   "cell_type": "code",
   "execution_count": 3,
   "metadata": {
    "collapsed": false
   },
   "outputs": [
    {
     "name": "stdout",
     "output_type": "stream",
     "text": [
      "Creating new file:  monthly_00N_30N.txt\n",
      "Creating file:  monthly_00N_30N.txt\n",
      "Creating new file:  monthly_00N_90N.txt\n",
      "Creating file:  monthly_00N_90N.txt\n",
      "Creating new file:  monthly_20N_90N.txt\n",
      "Creating file:  monthly_20N_90N.txt\n",
      "Creating new file:  monthly_20S_20N.txt\n",
      "Creating file:  monthly_20S_20N.txt\n",
      "Creating new file:  monthly_30N_60N.txt\n",
      "Creating file:  monthly_30N_60N.txt\n",
      "Creating new file:  monthly_30S_00N.txt\n",
      "Creating file:  monthly_30S_00N.txt\n",
      "Creating new file:  monthly_60N_90N.txt\n",
      "Creating file:  monthly_60N_90N.txt\n",
      "Creating new file:  monthly_60S_30S.txt\n",
      "Creating file:  monthly_60S_30S.txt\n",
      "Creating new file:  monthly_60S_60N.txt\n",
      "Creating file:  monthly_60S_60N.txt\n",
      "Creating new file:  monthly_90S_00N.txt\n",
      "Creating file:  monthly_90S_00N.txt\n",
      "Creating new file:  monthly_90S_20S.txt\n",
      "Creating file:  monthly_90S_20S.txt\n",
      "Creating new file:  monthly_90S_60S.txt\n",
      "Creating file:  monthly_90S_60S.txt\n",
      "Creating new file:  monthly_90S_90N.txt\n",
      "Creating file:  monthly_90S_90N.txt\n"
     ]
    }
   ],
   "source": [
    "# This can be used to convert the new ASCII files to text files if required.\n",
    "# I did not use this, but could be useful.\n",
    "new_files = [str(\"monthly_\"+f.split('.')[3]+\"_\"+f.split('.')[4]+\".txt\") for f in files]\n",
    "for i in range(len(files)):\n",
    "    data = open(new_files[i],'w')\n",
    "    print (\"Creating new file: \", new_files[i])\n",
    "    with open(files[i], newline='') as f:\n",
    "        reader = csv.reader(f, quoting=csv.QUOTE_NONE)\n",
    "        print (\"Creating file: \", new_files[i])\n",
    "        for row in reader:\n",
    "            data.write(row[0])\n",
    "            data.write(\"\\n\")"
   ]
  },
  {
   "cell_type": "code",
   "execution_count": 4,
   "metadata": {
    "collapsed": false
   },
   "outputs": [],
   "source": [
    "df = dict()\n",
    "for i in range(len(files)):\n",
    "    anomaly = str(\"anomaly_\"+files[i].split('.')[3]+\"_\"+files[i].split('.')[4])\n",
    "    x = np.genfromtxt(files[i])\n",
    "    df[i] = pd.DataFrame(x[:,0:3],columns=['year','month',anomaly])\n",
    "    \n",
    "frames = [i for i in df.values()]\n",
    "\n",
    "temp = pd.DataFrame(df[0])\n",
    "for i in range(len(frames)-1):\n",
    "    temp = pd.merge(temp, frames[i+1], on=['year','month'])"
   ]
  },
  {
   "cell_type": "markdown",
   "metadata": {},
   "source": [
    "temp['year'] = temp['year'].astype(int)\n",
    "temp['month'] = temp['month'].astype(int)\n",
    "temp.head()"
   ]
  },
  {
   "cell_type": "markdown",
   "metadata": {
    "collapsed": false
   },
   "source": [
    "### Check the data and output to .csv"
   ]
  },
  {
   "cell_type": "code",
   "execution_count": 5,
   "metadata": {
    "collapsed": false
   },
   "outputs": [
    {
     "data": {
      "text/html": [
       "<div>\n",
       "<table border=\"1\" class=\"dataframe\">\n",
       "  <thead>\n",
       "    <tr style=\"text-align: right;\">\n",
       "      <th></th>\n",
       "      <th>year</th>\n",
       "      <th>month</th>\n",
       "      <th>anomaly_00N_30N</th>\n",
       "      <th>anomaly_00N_90N</th>\n",
       "      <th>anomaly_20N_90N</th>\n",
       "      <th>anomaly_20S_20N</th>\n",
       "      <th>anomaly_30N_60N</th>\n",
       "      <th>anomaly_30S_00N</th>\n",
       "      <th>anomaly_60N_90N</th>\n",
       "      <th>anomaly_60S_30S</th>\n",
       "      <th>anomaly_60S_60N</th>\n",
       "      <th>anomaly_90S_00N</th>\n",
       "      <th>anomaly_90S_20S</th>\n",
       "      <th>anomaly_90S_60S</th>\n",
       "      <th>anomaly_90S_90N</th>\n",
       "    </tr>\n",
       "  </thead>\n",
       "  <tbody>\n",
       "    <tr>\n",
       "      <th>count</th>\n",
       "      <td>1644.000000</td>\n",
       "      <td>1644.000000</td>\n",
       "      <td>1644.000000</td>\n",
       "      <td>1644.000000</td>\n",
       "      <td>1644.000000</td>\n",
       "      <td>1644.000000</td>\n",
       "      <td>1644.000000</td>\n",
       "      <td>1644.000000</td>\n",
       "      <td>1644.000000</td>\n",
       "      <td>1644.000000</td>\n",
       "      <td>1644.000000</td>\n",
       "      <td>1644.000000</td>\n",
       "      <td>1644.000000</td>\n",
       "      <td>1644.000000</td>\n",
       "      <td>1644.000000</td>\n",
       "    </tr>\n",
       "    <tr>\n",
       "      <th>mean</th>\n",
       "      <td>1948.000000</td>\n",
       "      <td>6.500000</td>\n",
       "      <td>-0.134468</td>\n",
       "      <td>-0.128035</td>\n",
       "      <td>-0.113198</td>\n",
       "      <td>-0.200772</td>\n",
       "      <td>-0.125369</td>\n",
       "      <td>-0.244486</td>\n",
       "      <td>-0.137982</td>\n",
       "      <td>-0.319847</td>\n",
       "      <td>-0.200190</td>\n",
       "      <td>-0.275533</td>\n",
       "      <td>-0.294881</td>\n",
       "      <td>-0.268474</td>\n",
       "      <td>-0.196542</td>\n",
       "    </tr>\n",
       "    <tr>\n",
       "      <th>std</th>\n",
       "      <td>39.559473</td>\n",
       "      <td>3.453103</td>\n",
       "      <td>0.336192</td>\n",
       "      <td>0.382271</td>\n",
       "      <td>0.454968</td>\n",
       "      <td>0.349374</td>\n",
       "      <td>0.515896</td>\n",
       "      <td>0.350191</td>\n",
       "      <td>0.986978</td>\n",
       "      <td>0.294792</td>\n",
       "      <td>0.321528</td>\n",
       "      <td>0.303457</td>\n",
       "      <td>0.288847</td>\n",
       "      <td>0.819224</td>\n",
       "      <td>0.327094</td>\n",
       "    </tr>\n",
       "    <tr>\n",
       "      <th>min</th>\n",
       "      <td>1880.000000</td>\n",
       "      <td>1.000000</td>\n",
       "      <td>-0.865569</td>\n",
       "      <td>-1.485862</td>\n",
       "      <td>-1.943991</td>\n",
       "      <td>-0.959749</td>\n",
       "      <td>-2.456808</td>\n",
       "      <td>-1.007250</td>\n",
       "      <td>-4.046195</td>\n",
       "      <td>-0.993245</td>\n",
       "      <td>-0.953525</td>\n",
       "      <td>-0.919200</td>\n",
       "      <td>-0.925244</td>\n",
       "      <td>-10.062963</td>\n",
       "      <td>-0.934394</td>\n",
       "    </tr>\n",
       "    <tr>\n",
       "      <th>25%</th>\n",
       "      <td>1914.000000</td>\n",
       "      <td>3.750000</td>\n",
       "      <td>-0.383276</td>\n",
       "      <td>-0.386255</td>\n",
       "      <td>-0.401536</td>\n",
       "      <td>-0.464527</td>\n",
       "      <td>-0.418565</td>\n",
       "      <td>-0.506432</td>\n",
       "      <td>-0.674702</td>\n",
       "      <td>-0.556343</td>\n",
       "      <td>-0.439016</td>\n",
       "      <td>-0.513819</td>\n",
       "      <td>-0.524692</td>\n",
       "      <td>-0.424150</td>\n",
       "      <td>-0.440547</td>\n",
       "    </tr>\n",
       "    <tr>\n",
       "      <th>50%</th>\n",
       "      <td>1948.000000</td>\n",
       "      <td>6.500000</td>\n",
       "      <td>-0.181188</td>\n",
       "      <td>-0.167424</td>\n",
       "      <td>-0.153160</td>\n",
       "      <td>-0.257587</td>\n",
       "      <td>-0.142332</td>\n",
       "      <td>-0.319413</td>\n",
       "      <td>-0.118357</td>\n",
       "      <td>-0.371814</td>\n",
       "      <td>-0.271123</td>\n",
       "      <td>-0.355853</td>\n",
       "      <td>-0.367359</td>\n",
       "      <td>-0.230013</td>\n",
       "      <td>-0.263627</td>\n",
       "    </tr>\n",
       "    <tr>\n",
       "      <th>75%</th>\n",
       "      <td>1982.000000</td>\n",
       "      <td>9.250000</td>\n",
       "      <td>0.068682</td>\n",
       "      <td>0.057234</td>\n",
       "      <td>0.128235</td>\n",
       "      <td>0.036701</td>\n",
       "      <td>0.162435</td>\n",
       "      <td>0.004255</td>\n",
       "      <td>0.397045</td>\n",
       "      <td>-0.047899</td>\n",
       "      <td>0.001723</td>\n",
       "      <td>-0.012122</td>\n",
       "      <td>-0.029959</td>\n",
       "      <td>-0.019928</td>\n",
       "      <td>0.004497</td>\n",
       "    </tr>\n",
       "    <tr>\n",
       "      <th>max</th>\n",
       "      <td>2016.000000</td>\n",
       "      <td>12.000000</td>\n",
       "      <td>1.076372</td>\n",
       "      <td>1.294889</td>\n",
       "      <td>1.589421</td>\n",
       "      <td>1.008778</td>\n",
       "      <td>1.690971</td>\n",
       "      <td>0.936731</td>\n",
       "      <td>4.011810</td>\n",
       "      <td>0.386738</td>\n",
       "      <td>0.920662</td>\n",
       "      <td>0.605049</td>\n",
       "      <td>0.356400</td>\n",
       "      <td>5.865385</td>\n",
       "      <td>0.946049</td>\n",
       "    </tr>\n",
       "  </tbody>\n",
       "</table>\n",
       "</div>"
      ],
      "text/plain": [
       "              year        month  anomaly_00N_30N  anomaly_00N_90N  \\\n",
       "count  1644.000000  1644.000000      1644.000000      1644.000000   \n",
       "mean   1948.000000     6.500000        -0.134468        -0.128035   \n",
       "std      39.559473     3.453103         0.336192         0.382271   \n",
       "min    1880.000000     1.000000        -0.865569        -1.485862   \n",
       "25%    1914.000000     3.750000        -0.383276        -0.386255   \n",
       "50%    1948.000000     6.500000        -0.181188        -0.167424   \n",
       "75%    1982.000000     9.250000         0.068682         0.057234   \n",
       "max    2016.000000    12.000000         1.076372         1.294889   \n",
       "\n",
       "       anomaly_20N_90N  anomaly_20S_20N  anomaly_30N_60N  anomaly_30S_00N  \\\n",
       "count      1644.000000      1644.000000      1644.000000      1644.000000   \n",
       "mean         -0.113198        -0.200772        -0.125369        -0.244486   \n",
       "std           0.454968         0.349374         0.515896         0.350191   \n",
       "min          -1.943991        -0.959749        -2.456808        -1.007250   \n",
       "25%          -0.401536        -0.464527        -0.418565        -0.506432   \n",
       "50%          -0.153160        -0.257587        -0.142332        -0.319413   \n",
       "75%           0.128235         0.036701         0.162435         0.004255   \n",
       "max           1.589421         1.008778         1.690971         0.936731   \n",
       "\n",
       "       anomaly_60N_90N  anomaly_60S_30S  anomaly_60S_60N  anomaly_90S_00N  \\\n",
       "count      1644.000000      1644.000000      1644.000000      1644.000000   \n",
       "mean         -0.137982        -0.319847        -0.200190        -0.275533   \n",
       "std           0.986978         0.294792         0.321528         0.303457   \n",
       "min          -4.046195        -0.993245        -0.953525        -0.919200   \n",
       "25%          -0.674702        -0.556343        -0.439016        -0.513819   \n",
       "50%          -0.118357        -0.371814        -0.271123        -0.355853   \n",
       "75%           0.397045        -0.047899         0.001723        -0.012122   \n",
       "max           4.011810         0.386738         0.920662         0.605049   \n",
       "\n",
       "       anomaly_90S_20S  anomaly_90S_60S  anomaly_90S_90N  \n",
       "count      1644.000000      1644.000000      1644.000000  \n",
       "mean         -0.294881        -0.268474        -0.196542  \n",
       "std           0.288847         0.819224         0.327094  \n",
       "min          -0.925244       -10.062963        -0.934394  \n",
       "25%          -0.524692        -0.424150        -0.440547  \n",
       "50%          -0.367359        -0.230013        -0.263627  \n",
       "75%          -0.029959        -0.019928         0.004497  \n",
       "max           0.356400         5.865385         0.946049  "
      ]
     },
     "execution_count": 5,
     "metadata": {},
     "output_type": "execute_result"
    }
   ],
   "source": [
    "temp.describe()"
   ]
  },
  {
   "cell_type": "code",
   "execution_count": 6,
   "metadata": {
    "collapsed": true
   },
   "outputs": [],
   "source": [
    "temp.to_csv(\"Global_Temperature_Data.csv\", index=False, sep=',')"
   ]
  },
  {
   "cell_type": "code",
   "execution_count": null,
   "metadata": {
    "collapsed": true
   },
   "outputs": [],
   "source": []
  }
 ],
 "metadata": {
  "anaconda-cloud": {},
  "kernelspec": {
   "display_name": "Python [py36]",
   "language": "python",
   "name": "Python [py36]"
  },
  "language_info": {
   "codemirror_mode": {
    "name": "ipython",
    "version": 3
   },
   "file_extension": ".py",
   "mimetype": "text/x-python",
   "name": "python",
   "nbconvert_exporter": "python",
   "pygments_lexer": "ipython3",
   "version": "3.6.0"
  }
 },
 "nbformat": 4,
 "nbformat_minor": 0
}
